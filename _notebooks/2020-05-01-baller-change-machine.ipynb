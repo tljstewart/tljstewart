{
 "cells": [
  {
   "cell_type": "markdown",
   "id": "43e68895",
   "metadata": {
    "tags": []
   },
   "source": [
    "# Baller Change Machine\n",
    "> Embedded Computer Vision Tracking System for Basketball Athletes\n",
    "\n",
    "- toc: true \n",
    "- badges: false\n",
    "#- title: A Good Place to Start\n",
    "- hide: false\n",
    "- comments: true\n",
    "- sticky_rank: 2t\n",
    "- author: Timothy L.J. Stewart\n",
    "- image: images/bcm.png\n",
    "- tags: [computer vision, python, embedded system, basketball]\n",
    "- permalink: /:title\n",
    "- categories: [computer vision, python, embedded system, basketball]\n",
    "\n"
   ]
  },
  {
   "cell_type": "markdown",
   "id": "90b3adf3",
   "metadata": {},
   "source": [
    "<!--\n",
    "# Note: you can go to youtube and copy this snippet of code for the video you'd like to embed with the embed option.\n",
    "<iframe width=\"560\" height=\"315\" src=\"https://www.youtube.com/embed/n9dZeYpWDBM\" title=\"YouTube video player\" frameborder=\"0\" allow=\"accelerometer; autoplay; clipboard-write; encrypted-media; gyroscope; picture-in-picture\" allowfullscreen></iframe>\n",
    "-->"
   ]
  },
  {
   "cell_type": "markdown",
   "id": "d663b597",
   "metadata": {},
   "source": [
    "<!-- # Or you can use the Fastpages custom linking -->\n",
    "> youtube: https://youtu.be/n9dZeYpWDBM"
   ]
  },
  {
   "cell_type": "markdown",
   "id": "0b7f0e1f",
   "metadata": {},
   "source": [
    " Publication: [B. Shaer and **T.L.J Stewart**, \"Intelligent Computer Vision Tracking and Embedded\n",
    "  Microcontroller in the Sporting Domain.,\" in International Conference on Image Processing,\n",
    "  Computer Vision, & Pattern Recognition,\n",
    "  2018.](../assets/files/Intelligent_Computer_Vision_Tracking_and_Embedded-IPC3581.pdf) "
   ]
  }
 ],
 "metadata": {
  "kernelspec": {
   "display_name": "ml39",
   "language": "python",
   "name": "ml39"
  },
  "language_info": {
   "codemirror_mode": {
    "name": "ipython",
    "version": 3
   },
   "file_extension": ".py",
   "mimetype": "text/x-python",
   "name": "python",
   "nbconvert_exporter": "python",
   "pygments_lexer": "ipython3",
   "version": "3.9.4"
  }
 },
 "nbformat": 4,
 "nbformat_minor": 5
}
