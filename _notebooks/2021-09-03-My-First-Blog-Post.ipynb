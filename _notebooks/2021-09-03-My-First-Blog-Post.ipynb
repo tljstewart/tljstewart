{
 "cells": [
  {
   "cell_type": "markdown",
   "id": "7413f9c8-c103-4e9f-a130-fd18c37846ee",
   "metadata": {},
   "source": [
    "# Good starter code \n"
   ]
  },
  {
   "cell_type": "markdown",
   "id": "672dc5c3-58f4-4e4c-a8bd-c115ea33deb2",
   "metadata": {},
   "source": [
    "for each notebook that you build out these are good sanity checks and usability, for instance to add a colab badge to the top of your notebooks so others may easily open and run from the browswer add this in a markdown block, [![Open In Colab](https://colab.research.google.com/assets/colab-badge.svg)](https://colab.research.google.com/github/tljstewart/tljstewart/blob/master/_notebooks/2021-09-03-My-First-Blog-Post.ipynb) of course change the url to point to your .ipynb file."
   ]
  },
  {
   "cell_type": "code",
   "execution_count": null,
   "id": "ecb6d69e-c717-4f2c-84e7-cbfbeaff964f",
   "metadata": {},
   "outputs": [],
   "source": []
  },
  {
   "cell_type": "code",
   "execution_count": null,
   "id": "b7a6c391-27fc-4446-849c-150d4da121cc",
   "metadata": {},
   "outputs": [],
   "source": []
  },
  {
   "cell_type": "code",
   "execution_count": null,
   "id": "f0d8628e-59d1-440e-81ac-eac75f448841",
   "metadata": {},
   "outputs": [],
   "source": []
  },
  {
   "cell_type": "markdown",
   "id": "ae9f6446-1d85-4ec8-89dc-8a8db07b3ba6",
   "metadata": {},
   "source": [
    "Here you can run some starter sanity checks to make sure you have the correct enviornment, version and packages"
   ]
  },
  {
   "cell_type": "code",
   "execution_count": null,
   "id": "91fcacf3-9a7b-4b12-b4d0-588492d69e7f",
   "metadata": {},
   "outputs": [
    {
     "name": "stdout",
     "output_type": "stream",
     "text": [
      "3.7.7 (default, May  6 2020, 04:59:01) \n",
      "[Clang 4.0.1 (tags/RELEASE_401/final)]\n",
      "/Users/tljstewart/miniconda3/envs/ml39/bin/python\n",
      "Python 3.9.4\n"
     ]
    }
   ],
   "source": [
    "import sys\n",
    "import os\n",
    "print(sys.version)\n",
    "\n",
    "!which python\n",
    "!python --version"
   ]
  },
  {
   "cell_type": "markdown",
   "id": "1901aff7-102e-4521-a7b5-1dfbaa99748f",
   "metadata": {},
   "source": [
    "Here you can learn about useful markdown syntax"
   ]
  },
  {
   "cell_type": "markdown",
   "id": "acea0305-7869-4263-a1d1-679386ace363",
   "metadata": {},
   "source": [
    "# Using Markdown \\# header 1\n",
    "## header 2 \\## header 2\n",
    "### header 3 \\### header 3\n",
    "**bold** \\*\\*bold**\n",
    "\n",
    "__itlaics__ \\_\\_itlaics\\_\\_\n",
    "\n",
    "`code` \\`code\\`\n",
    "\n",
    "\n",
    "Here is some special jekly sauce to embed urls, like twitter and youtube on the blog\n",
    "\n",
    "> twitter: https://twitter.com/tljstewart/status/1291806901068607489?s=20"
   ]
  },
  {
   "cell_type": "code",
   "execution_count": null,
   "id": "e449bd71-594a-4452-8206-99bcde41cf21",
   "metadata": {},
   "outputs": [],
   "source": []
  },
  {
   "cell_type": "code",
   "execution_count": null,
   "id": "4ce60749-c272-4781-b13e-155c632a1af8",
   "metadata": {},
   "outputs": [],
   "source": []
  },
  {
   "cell_type": "code",
   "execution_count": null,
   "id": "6e633553-3f35-42b7-8ff6-2a5418708bae",
   "metadata": {},
   "outputs": [],
   "source": []
  },
  {
   "cell_type": "code",
   "execution_count": null,
   "id": "7885eece-4751-4b1a-a6b1-0845b27633e9",
   "metadata": {},
   "outputs": [],
   "source": []
  },
  {
   "cell_type": "markdown",
   "id": "ba61a6a2-12d1-4f00-a893-28cf3aaaa440",
   "metadata": {},
   "source": [
    "> youtube: https://youtu.be/FjwayiHNI1w"
   ]
  },
  {
   "cell_type": "code",
   "execution_count": null,
   "id": "1417b1dd-51c3-4744-a4ee-cce34c5184a2",
   "metadata": {},
   "outputs": [],
   "source": []
  },
  {
   "cell_type": "code",
   "execution_count": null,
   "id": "5d5ec4e0-eb43-4aed-8530-025cf284e32a",
   "metadata": {},
   "outputs": [],
   "source": []
  },
  {
   "cell_type": "code",
   "execution_count": null,
   "id": "f8dc4921-628c-472b-b8a2-3269baf91f42",
   "metadata": {},
   "outputs": [],
   "source": []
  },
  {
   "cell_type": "code",
   "execution_count": null,
   "id": "471304e1-ea14-42f7-ada2-07d297250d94",
   "metadata": {},
   "outputs": [],
   "source": []
  },
  {
   "cell_type": "code",
   "execution_count": null,
   "id": "3756942b-0e06-4e48-b47b-2f6221078528",
   "metadata": {},
   "outputs": [],
   "source": []
  },
  {
   "cell_type": "code",
   "execution_count": null,
   "id": "eb7181b5-8b55-4a5b-bdd0-2984261cb645",
   "metadata": {},
   "outputs": [],
   "source": []
  }
 ],
 "metadata": {
  "kernelspec": {
   "display_name": "Python 3",
   "language": "python",
   "name": "python3"
  },
  "language_info": {
   "codemirror_mode": {
    "name": "ipython",
    "version": 3
   },
   "file_extension": ".py",
   "mimetype": "text/x-python",
   "name": "python",
   "nbconvert_exporter": "python",
   "pygments_lexer": "ipython3",
   "version": "3.7.7"
  }
 },
 "nbformat": 4,
 "nbformat_minor": 5
}
