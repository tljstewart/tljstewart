{
 "cells": [
  {
   "cell_type": "markdown",
   "id": "7413f9c8-c103-4e9f-a130-fd18c37846ee",
   "metadata": {},
   "source": [
    "# Good starter code \n",
    "for each notebook that you build out these are good sanity checks and usability, for instance to add a colab badge to the top of your notebooks so others may easily open and run from the browswer add this in a markdown block, [![Open In Colab](https://colab.research.google.com/assets/colab-badge.svg)](https://colab.research.google.com/github/tljstewart/machine-learning/blob/main/svm/svm.ipynb) of course change the url to point to your .ipynb file."
   ]
  },
  {
   "cell_type": "markdown",
   "id": "672dc5c3-58f4-4e4c-a8bd-c115ea33deb2",
   "metadata": {},
   "source": [
    "[![Open In Colab](https://colab.research.google.com/assets/colab-badge.svg)](https://colab.research.google.com/github/tljstewart/machine-learning/blob/main/svm/svm.ipynb) "
   ]
  },
  {
   "cell_type": "markdown",
   "id": "ae9f6446-1d85-4ec8-89dc-8a8db07b3ba6",
   "metadata": {},
   "source": [
    "Here you can run some starter sanity checks to make sure you have the correct enviornment, version and packages"
   ]
  },
  {
   "cell_type": "code",
   "execution_count": null,
   "id": "91fcacf3-9a7b-4b12-b4d0-588492d69e7f",
   "metadata": {},
   "outputs": [
    {
     "name": "stdout",
     "output_type": "stream",
     "text": [
      "3.7.7 (default, May  6 2020, 04:59:01) \n",
      "[Clang 4.0.1 (tags/RELEASE_401/final)]\n",
      "/Users/tljstewart/miniconda3/envs/ml39/bin/python\n",
      "Python 3.9.4\n"
     ]
    }
   ],
   "source": [
    "import sys\n",
    "import os\n",
    "print(sys.version)\n",
    "\n",
    "!which python\n",
    "!python --version"
   ]
  },
  {
   "cell_type": "markdown",
   "id": "1901aff7-102e-4521-a7b5-1dfbaa99748f",
   "metadata": {},
   "source": [
    "Here you can learn about useful markdown syntax"
   ]
  },
  {
   "cell_type": "markdown",
   "id": "acea0305-7869-4263-a1d1-679386ace363",
   "metadata": {},
   "source": [
    "# Using Markdown\n",
    "## header 2\n",
    "### header 3\n",
    "**bold**\n",
    "\n",
    "__itlaics__\n",
    "\n",
    "`code`"
   ]
  },
  {
   "cell_type": "code",
   "execution_count": null,
   "id": "471304e1-ea14-42f7-ada2-07d297250d94",
   "metadata": {},
   "outputs": [],
   "source": []
  },
  {
   "cell_type": "code",
   "execution_count": null,
   "id": "3756942b-0e06-4e48-b47b-2f6221078528",
   "metadata": {},
   "outputs": [],
   "source": []
  },
  {
   "cell_type": "code",
   "execution_count": null,
   "id": "eb7181b5-8b55-4a5b-bdd0-2984261cb645",
   "metadata": {},
   "outputs": [],
   "source": []
  }
 ],
 "metadata": {
  "kernelspec": {
   "display_name": "Python 3",
   "language": "python",
   "name": "python3"
  },
  "language_info": {
   "codemirror_mode": {
    "name": "ipython",
    "version": 3
   },
   "file_extension": ".py",
   "mimetype": "text/x-python",
   "name": "python",
   "nbconvert_exporter": "python",
   "pygments_lexer": "ipython3",
   "version": "3.7.7"
  }
 },
 "nbformat": 4,
 "nbformat_minor": 5
}
