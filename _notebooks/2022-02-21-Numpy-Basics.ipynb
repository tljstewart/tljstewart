{
 "cells": [
  {
   "cell_type": "markdown",
   "id": "a41cb163",
   "metadata": {
    "tags": []
   },
   "source": [
    "# Numpy Basics\n",
    "> A quick walk through vector and matrix multiplication with Numpy.\n",
    "\n",
    "- toc: true \n",
    "- badges: true\n",
    "#- title: Numpy Basics\n",
    "- hide: false\n",
    "- comments: true\n",
    "- author: Timothy L.J. Stewart\n",
    "- image: images/numpy.png\n",
    "- tags: [python, numpy, matrix, vector]\n",
    "- permalink: /:title\n",
    "- categories: [python, numpy, matrix, vector]\n",
    "\n"
   ]
  },
  {
   "cell_type": "code",
   "execution_count": 1,
   "id": "8990910e",
   "metadata": {},
   "outputs": [],
   "source": [
    "import numpy as np\n",
    "from pprint import pprint\n",
    "import matplotlib.pyplot as plt\n",
    "# inner product = dot product       = a.T*b (Transpose here is only for distinction, np.dot() does not automagically Transpose, np.dot() expects proper dimensions for matrix math)\n",
    "# outer product                     = a*b.T\n",
    "# hadamard product = element-wise   = a*b\n",
    "\n",
    "# a*b does a hadamard product\n",
    "# dot(av,bv) of vectors does a hadamard product\n",
    "# dot(am,bm) of matrix does matrix multiplication\n"
   ]
  },
  {
   "cell_type": "markdown",
   "id": "97251c3d",
   "metadata": {},
   "source": [
    "## Inner Product"
   ]
  },
  {
   "cell_type": "code",
   "execution_count": 2,
   "id": "bf4e7f25",
   "metadata": {},
   "outputs": [
    {
     "name": "stdout",
     "output_type": "stream",
     "text": [
      "\n",
      "(1)\n",
      "a and b shape: (3,) -->  dot(a,b) = \n",
      "6\n"
     ]
    }
   ],
   "source": [
    "# inner product = dot product (1*2)+(1*2)+(1*2)=6\n",
    "a = np.array([1,1,1]) #this is not a column or row vector\n",
    "b = np.array([2,2,2]) #this is not a column or row vector\n",
    "print(f\"\\n(1)\\na and b shape: {a.shape} -->  dot(a,b) = \\n{np.dot(a,b)}\")\n"
   ]
  },
  {
   "cell_type": "code",
   "execution_count": 3,
   "id": "cd072197",
   "metadata": {},
   "outputs": [
    {
     "name": "stdout",
     "output_type": "stream",
     "text": [
      "\n",
      "(2)\n",
      "ar and bc shape: (3, 1) (3, 1) -->  \n",
      "dot(ac.T,bc) = \n",
      "[[6]] \n",
      "dot(bc.T,ac) = \n",
      "[[6]]\n"
     ]
    }
   ],
   "source": [
    "# One way to force a row or column vector is to use double bracket [[]]\n",
    "# where [[0],  is a 2x1 column vector\n",
    "#        [0]]\n",
    "# and [[0,0]] is a 1x2 row vector\n",
    "\n",
    "ac = np.array([ [1],\n",
    "                [1],\n",
    "                [1]]) \n",
    "bc = np.array( [[2],\n",
    "                [2],\n",
    "                [2]]) \n",
    "print(f\"\\n(2)\\nar and bc shape: {ac.shape} {bc.shape} -->  \\ndot(ac.T,bc) = \\n{np.dot(ac.T,bc)} \\ndot(bc.T,ac) = \\n{np.dot(bc.T,ac)}\")\n"
   ]
  },
  {
   "cell_type": "code",
   "execution_count": 4,
   "id": "4780dcf7",
   "metadata": {},
   "outputs": [
    {
     "name": "stdout",
     "output_type": "stream",
     "text": [
      "\n",
      "(3)\n",
      "ar and bc shape: (1, 3) (3, 1) -->  \n",
      "dot(ar,bc) = \n",
      "[[6]] \n",
      "dot(bc,ar) = \n",
      "[[2 2 2]\n",
      " [2 2 2]\n",
      " [2 2 2]]\n"
     ]
    }
   ],
   "source": [
    "ar = np.array([[1,1,1 ]]) \n",
    "bc = np.array( [[2],\n",
    "                [2],\n",
    "                [2]]) \n",
    "print(f\"\\n(3)\\nar and bc shape: {ar.shape} {bc.shape} -->  \\ndot(ar,bc) = \\n{np.dot(ar,bc)} \\ndot(bc,ar) = \\n{np.dot(bc,ar)}\")\n",
    "\n"
   ]
  },
  {
   "cell_type": "code",
   "execution_count": 5,
   "id": "f35dc569",
   "metadata": {},
   "outputs": [
    {
     "name": "stdout",
     "output_type": "stream",
     "text": [
      "ar and bc shape: (2, 2) (2, 2) -->  \n",
      "dot(ar,bc) = \n",
      "[[3 5]\n",
      " [3 5]] \n",
      "dot(bc,ar) = \n",
      "[[4 4]\n",
      " [4 4]] \n",
      " ar*bc = \n",
      "[[1 3]\n",
      " [2 2]]\n"
     ]
    }
   ],
   "source": [
    "ar = np.array([[1,1],\n",
    "               [1,1]]) \n",
    "bc = np.array( [[1, 3],\n",
    "                [2, 2]\n",
    "                ]) \n",
    "print(f\"ar and bc shape: {ar.shape} {bc.shape} -->  \\ndot(ar,bc) = \\n{np.dot(ar,bc)} \\ndot(bc,ar) = \\n{np.dot(bc,ar)} \\n ar*bc = \\n{ar*bc}\")\n"
   ]
  },
  {
   "cell_type": "markdown",
   "id": "88171645",
   "metadata": {},
   "source": [
    "## Wrong Dimensions"
   ]
  },
  {
   "cell_type": "code",
   "execution_count": null,
   "id": "f253fab7",
   "metadata": {},
   "outputs": [],
   "source": [
    "\n",
    "# Wrong Dimensions\n",
    "am = np.array([[1,1,1,1]]) \n",
    "bm = np.array( [[2],\n",
    "                [2],\n",
    "                [2]]) \n",
    "print(f\"ar and bc shape: {am.shape} {bm.shape} -->  dot(a,b) = {np.dot(am,bm)}\")\n",
    "# Inner dimensions must match, ie 4 and 4 or 3 and 3 here.\n",
    "# Error: ValueError: shapes (1,4) and (3,1) not aligned: 4 (dim 1) != 3 (dim 0)"
   ]
  }
 ],
 "metadata": {
  "interpreter": {
   "hash": "c86ba28418f33c709bf32554b0939173605d0adfff60befee7a4b7736133efeb"
  },
  "kernelspec": {
   "display_name": "ml39",
   "language": "python",
   "name": "python3"
  },
  "language_info": {
   "codemirror_mode": {
    "name": "ipython",
    "version": 3
   },
   "file_extension": ".py",
   "mimetype": "text/x-python",
   "name": "python",
   "nbconvert_exporter": "python",
   "pygments_lexer": "ipython3",
   "version": "3.9.11"
  }
 },
 "nbformat": 4,
 "nbformat_minor": 5
}
