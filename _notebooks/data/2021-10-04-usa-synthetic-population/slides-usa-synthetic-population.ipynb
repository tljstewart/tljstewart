{
 "cells": [
  {
   "cell_type": "markdown",
   "id": "f6f22cd3",
   "metadata": {
    "slideshow": {
     "slide_type": "skip"
    }
   },
   "source": [
    "# NOTES:\n",
    "Reveal.js\n",
    "- `spacebar` to traverse slides\n",
    "- `shift + spacebar` to reverse traverse\n",
    "- to traverse subslides pgup or pgdown (on mac) -> `fn + down or up arrow`\n",
    "\n",
    "Markdown\n",
    "use `two spaces` at the  \n",
    "end to make a newline or\n",
    "use `<br>` <br>\n",
    "or use `\\`\\\n",
    "backlash for newline\n"
   ]
  },
  {
   "cell_type": "markdown",
   "id": "78d6d075",
   "metadata": {
    "slideshow": {
     "slide_type": "slide"
    }
   },
   "source": [
    "# Synthetic Population Generation for Reinforcement Learning Policy Simulation\n",
    "\n",
    "![Social Network](res/graph-network.jpeg \"Synthetic Population Network\")\n",
    "\n",
    "Author: Timothy L.J. Stewart\\\n",
    "Department: UWF-IHMC ISR Ph.D. candidate\\\n",
    "Advisors: Dr. Ashok UWF and Dr. Arash IHMC\\\n",
    "The code and writeup: https://tljstewart.github.io/\n"
   ]
  },
  {
   "cell_type": "markdown",
   "id": "580be4f3",
   "metadata": {
    "slideshow": {
     "slide_type": "slide"
    }
   },
   "source": [
    "\n",
    "# Synthetic Population Generation for Reinforcement Learning Policy Simulation\n",
    "\n",
    "There are many uses for synthetic population generation. Modern usage utilize high performance computing in stochastic simulations to simulate events, such as, disease spread, economics, social modeling, disaster response, catastrophic events and many more. "
   ]
  },
  {
   "cell_type": "code",
   "execution_count": 1,
   "id": "5bdb9a9e",
   "metadata": {
    "slideshow": {
     "slide_type": "subslide"
    }
   },
   "outputs": [
    {
     "name": "stdout",
     "output_type": "stream",
     "text": [
      "3.9.4 (default, Apr  9 2021, 09:32:38) \n",
      "[Clang 10.0.0 ]\n",
      "/Users/tljstewart/miniconda3/envs/ml39/bin/python\n",
      "/usr/bin/python\n",
      "Python 3.9.4\n",
      "pip 21.2.4 from /Users/tljstewart/miniconda3/envs/ml39/lib/python3.9/site-packages/pip (python 3.9)\n",
      "conda 4.10.3\n"
     ]
    }
   ],
   "source": [
    "%config InlineBackend.figure_format = 'retina'\n",
    "import jdc\n",
    "import sys\n",
    "import os\n",
    "import pandas as pd\n",
    "import numpy as np\n",
    "print(sys.version)\n",
    "\n",
    "#set random seed to have reproducable random states\n",
    "random_seed = 42\n",
    "\n",
    "#set pandas option to view more columns\n",
    "pd.set_option('display.max_columns', 500)\n",
    "pd.set_option('display.width', 10000)\n",
    "\n",
    "!where python\n",
    "!python --version\n",
    "!pip --version\n",
    "!conda --version\n",
    "#!pip list\n",
    "#!conda list\n",
    "#!python -m pip install --upgrade pip #if you need to upgrade pip\n",
    "\n",
    "## VERSION OUTPUT BELOW ##\n",
    "#Python 3.9.4\n",
    "#pip 21.2.4 (python 3.9)\n",
    "#conda 4.10.3\n",
    "\n"
   ]
  },
  {
   "cell_type": "markdown",
   "id": "a55092ac",
   "metadata": {
    "slideshow": {
     "slide_type": "slide"
    }
   },
   "source": [
    "# Grab all files from data direcotory, *(Path windows/linux agnostic)*"
   ]
  },
  {
   "cell_type": "code",
   "execution_count": 2,
   "id": "570f7904",
   "metadata": {
    "slideshow": {
     "slide_type": "subslide"
    }
   },
   "outputs": [
    {
     "data": {
      "text/plain": [
       "'darwin'"
      ]
     },
     "metadata": {},
     "output_type": "display_data"
    }
   ],
   "source": [
    "#hide_output\n",
    "# Build Paths to Data (windows/linux agnostic)\n",
    "from pathlib import Path\n",
    "\n",
    "datadir = Path(\"data/2021-10-04-usa-synthetic-population/data/safegraph/safegraph_open_census_data_2019/data/\")\n",
    "meta_datadir = Path(\"data/2021-10-04-usa-synthetic-population/data/safegraph/safegraph_open_census_data_2019/metadata/\")\n",
    "data_outdir = Path(\"data/2021-10-04-usa-synthetic-population/data/out/\")\n",
    "geo_datadir = None\n",
    "pattern_datadir = None\n",
    "\n",
    "# Get data files, platform dependent ls\n",
    "pums_5_year_2019_person_file = Path(\"data/2021-10-04-usa-synthetic-population/data/pums/5-year/csv_pfl/psam_p12.csv\")\n",
    "census_tract_to_puma_file = Path(\"data/2021-10-04-usa-synthetic-population/data/pums/2010_Census_Tract_to_2010_PUMA.csv\")\n",
    "display(sys.platform)\n",
    "if sys.platform == 'win32':\n",
    "    data_files = os.listdir(datadir)\n",
    "    meta_files = os.listdir(meta_datadir)\n",
    "    #display(data_files)\n",
    "    #display(meta_files)\n",
    "else:\n",
    "    # Return list of files in alphanumeric order\n",
    "    data_files = list(os.popen(f\"ls {datadir}\"))\n",
    "    data_files = [file.strip(\"\\n\") for file in data_files]\n",
    "    meta_files = list(os.popen(f\"ls {meta_datadir}\"))\n",
    "    meta_files = [file.strip(\"\\n\") for file in meta_files]\n",
    "    #display(data_files)\n"
   ]
  },
  {
   "cell_type": "markdown",
   "id": "c27461d0",
   "metadata": {
    "slideshow": {
     "slide_type": "slide"
    }
   },
   "source": [
    "# Ingest Census CSV Data and Metadata Files with Pandas"
   ]
  },
  {
   "cell_type": "code",
   "execution_count": 3,
   "id": "5e9e83a7",
   "metadata": {
    "slideshow": {
     "slide_type": "subslide"
    }
   },
   "outputs": [
    {
     "ename": "IndexError",
     "evalue": "list index out of range",
     "output_type": "error",
     "traceback": [
      "\u001b[0;31m---------------------------------------------------------------------------\u001b[0m",
      "\u001b[0;31mIndexError\u001b[0m                                Traceback (most recent call last)",
      "\u001b[0;32m<ipython-input-3-a8c0ff6a9dad>\u001b[0m in \u001b[0;36m<module>\u001b[0;34m\u001b[0m\n\u001b[1;32m      2\u001b[0m \u001b[0;31m#Here is a single file, we could wrap this in a for-loop but perhaps not a great idea as this is a large dataset... TODO: may we will to test the limits...\u001b[0m\u001b[0;34m\u001b[0m\u001b[0;34m\u001b[0m\u001b[0;34m\u001b[0m\u001b[0m\n\u001b[1;32m      3\u001b[0m \u001b[0mdict_df\u001b[0m \u001b[0;34m=\u001b[0m \u001b[0mdict\u001b[0m\u001b[0;34m(\u001b[0m\u001b[0;34m)\u001b[0m\u001b[0;34m\u001b[0m\u001b[0;34m\u001b[0m\u001b[0m\n\u001b[0;32m----> 4\u001b[0;31m \u001b[0mdict_df\u001b[0m\u001b[0;34m[\u001b[0m\u001b[0mdata_files\u001b[0m\u001b[0;34m[\u001b[0m\u001b[0;36m0\u001b[0m\u001b[0;34m]\u001b[0m\u001b[0;34m]\u001b[0m \u001b[0;34m=\u001b[0m \u001b[0mpd\u001b[0m\u001b[0;34m.\u001b[0m\u001b[0mread_csv\u001b[0m\u001b[0;34m(\u001b[0m\u001b[0mdatadir\u001b[0m \u001b[0;34m/\u001b[0m \u001b[0mdata_files\u001b[0m\u001b[0;34m[\u001b[0m\u001b[0;36m0\u001b[0m\u001b[0;34m]\u001b[0m\u001b[0;34m)\u001b[0m \u001b[0;31m#chunksize=chunk_size)\u001b[0m\u001b[0;34m\u001b[0m\u001b[0;34m\u001b[0m\u001b[0m\n\u001b[0m\u001b[1;32m      5\u001b[0m \u001b[0mcurrent_data_df\u001b[0m \u001b[0;34m=\u001b[0m \u001b[0mdict_df\u001b[0m\u001b[0;34m[\u001b[0m\u001b[0mdata_files\u001b[0m\u001b[0;34m[\u001b[0m\u001b[0;36m0\u001b[0m\u001b[0;34m]\u001b[0m\u001b[0;34m]\u001b[0m\u001b[0;34m\u001b[0m\u001b[0;34m\u001b[0m\u001b[0m\n\u001b[1;32m      6\u001b[0m \u001b[0;34m\u001b[0m\u001b[0m\n",
      "\u001b[0;31mIndexError\u001b[0m: list index out of range"
     ]
    }
   ],
   "source": [
    "#hide_output\n",
    "#Here is a single file, we could wrap this in a for-loop but perhaps not a great idea as this is a large dataset... TODO: may we will to test the limits...\n",
    "dict_df = dict()\n",
    "dict_df[data_files[0]] = pd.read_csv(datadir / data_files[0]) #chunksize=chunk_size)\n",
    "current_data_df = dict_df[data_files[0]]\n",
    "\n",
    "print(\"2019 Census Dataset\")\n",
    "display(current_data_df)\n",
    "\n",
    "#ls should return files in alphabetic order, but just an extra layer of certainty use this loop to get the description file\n",
    "dict_meta_df = dict()\n",
    "for i,f in enumerate(meta_files):\n",
    "    if(f == \"cbg_field_descriptions.csv\"):\n",
    "        dict_meta_df[meta_files[i]] = pd.read_csv(meta_datadir / meta_files[i]) #chunksize=chunk_size)\n",
    "        current_meta_df = dict_meta_df[meta_files[0]]\n",
    "        print(\"2019 Census Metadata\")\n",
    "        display(current_meta_df)\n",
    "        break\n"
   ]
  },
  {
   "cell_type": "markdown",
   "id": "8fd9b138",
   "metadata": {
    "slideshow": {
     "slide_type": "slide"
    }
   },
   "source": [
    "# Drop all the columns for marginal error, and other unneeded columns"
   ]
  },
  {
   "cell_type": "code",
   "execution_count": null,
   "id": "237ab1cb",
   "metadata": {
    "slideshow": {
     "slide_type": "subslide"
    }
   },
   "outputs": [],
   "source": [
    "# Find margin of errors\n",
    "drop_marginoferror_df = current_meta_df[current_meta_df[\"field_level_1\"] == \"MarginOfError\"]\n",
    "drop_marginoferror_ls = list(drop_marginoferror_df[\"table_id\"])\n",
    "keep_meta_df = current_meta_df[current_meta_df[\"field_level_1\"] != \"MarginOfError\"]\n",
    "\n",
    "# Drop margin of error, axis=1 drop columns, axis=0 drop rows, axis=0 is default mode\n",
    "# alternatively, axis='rows' or axis'columns' is the same as axis=0 or axis=1, respectively\n",
    "thisFilter = current_data_df.filter(drop_marginoferror_ls)\n",
    "display(thisFilter)\n",
    "current_data_df.drop(thisFilter, inplace=True, axis=1)\n",
    "\n",
    "display(current_data_df)\n",
    "display(current_meta_df)\n",
    "\n",
    "# Display this to see unique fields in the meta file\n",
    "unique_meta_df = current_meta_df.apply(lambda col: col.unique())\n"
   ]
  },
  {
   "cell_type": "markdown",
   "id": "dea1025a",
   "metadata": {
    "slideshow": {
     "slide_type": "subslide"
    }
   },
   "source": [
    "# Now `current_meta_df` drops all *MarginOfError* data"
   ]
  },
  {
   "cell_type": "code",
   "execution_count": null,
   "id": "89e9e815",
   "metadata": {
    "slideshow": {
     "slide_type": "subslide"
    }
   },
   "outputs": [],
   "source": [
    "current_meta_df = keep_meta_df\n",
    "display(current_meta_df)"
   ]
  },
  {
   "cell_type": "markdown",
   "id": "05122131",
   "metadata": {
    "slideshow": {
     "slide_type": "skip"
    }
   },
   "source": [
    "# Write a Labels CSV to Disk"
   ]
  },
  {
   "cell_type": "code",
   "execution_count": null,
   "id": "4fb58c9c",
   "metadata": {
    "slideshow": {
     "slide_type": "skip"
    }
   },
   "outputs": [],
   "source": [
    "#hide_output\n",
    "#sum on 0 axis... sum down the rows (i.e., sum a whole column) axis 1 sum across the columns (i.e, sum a whole row)\n",
    "df_totals = current_data_df.sum(axis='rows', skipna = True)\n",
    "print(df_totals.shape)\n",
    "print(current_data_df.columns)\n",
    "tmp_df = pd.DataFrame(current_data_df.columns)\n",
    "display(tmp_df.values)\n",
    "\n",
    "#write to csv\n",
    "tmp_df.to_csv(data_outdir / \"84labels.csv\", index=False, header=False)\n"
   ]
  },
  {
   "cell_type": "markdown",
   "id": "923e7bda",
   "metadata": {},
   "source": [
    "# Rename `current_data_df` Columns \n",
    "Rename `current_data_df` columns `b0xxxx` -> `newlabels_list`"
   ]
  },
  {
   "cell_type": "code",
   "execution_count": null,
   "id": "dd53d39a",
   "metadata": {},
   "outputs": [],
   "source": [
    "tmp_df = current_meta_df[current_meta_df.table_id.isin(list(current_data_df.columns))].copy()\n",
    "tmp_missing_df = current_meta_df[~current_meta_df.table_id.isin(list(current_data_df.columns))]\n",
    "tmp_df.fillna('', inplace=True)\n",
    "t = tmp_df[[\"field_level_2\", \"field_level_3\", \"field_level_4\", \"field_level_5\", \"field_level_6\"]]\n",
    "newlabels_list = list(t[\"field_level_2\"] + \" \" + t[\"field_level_3\"] + \" \" + t[\"field_level_4\"] + \" \" + t[\"field_level_5\"] + \" \" + t[\"field_level_6\"])\n",
    "\n",
    "newlabels_list = [x.strip() for x in newlabels_list]\n",
    "newlabels_list = [x.strip('\"') for x in newlabels_list]\n",
    "newlabels_list = [x.replace(',',\"\") for x in newlabels_list]\n",
    "newlabels_list = [x.replace(\")\",\"\") for x in newlabels_list]\n",
    "newlabels_list = [x.replace(\"(\",\"\") for x in newlabels_list]\n",
    "newlabels_list = [x.replace(\" \",\"_\") for x in newlabels_list]\n",
    "tmp_list = list(tmp_df.table_id)\n",
    "newlabels_dict = dict(zip(tmp_list, newlabels_list))\n",
    "\n",
    "cell_ran = False\n",
    "if cell_ran is False:\n",
    "    cell_ran = True\n",
    "    current_data_df.rename(columns=newlabels_dict, inplace=True)\n",
    "\n",
    "current_data_df"
   ]
  },
  {
   "cell_type": "markdown",
   "id": "4485c2dc",
   "metadata": {
    "slideshow": {
     "slide_type": "skip"
    }
   },
   "source": [
    "# Generate Simplifed Meta CSV File \n",
    "Map `table_id` `B0xxxxx` values to a `simple-meta-all-labels.csv` file"
   ]
  },
  {
   "cell_type": "code",
   "execution_count": null,
   "id": "914332cc",
   "metadata": {
    "slideshow": {
     "slide_type": "skip"
    }
   },
   "outputs": [],
   "source": [
    "simple_meta_df = pd.DataFrame(current_meta_df.table_id.copy())\n",
    "tmp_df = current_meta_df.fillna('')\n",
    "\n",
    "all_labels_list = list(tmp_df.field_level_2 + \" \" + tmp_df.field_level_3 + \" \" + tmp_df.field_level_4 + \" \" + tmp_df.field_level_5 + \" \" + tmp_df.field_level_6 + \" \" + tmp_df.field_level_7 + \" \" + tmp_df.field_level_8 + \" \" + tmp_df.field_level_9 + \" \" + tmp_df.field_level_10)\n",
    "all_labels_list = [x.strip() for x in all_labels_list]\n",
    "all_labels_list = [x.strip('\"') for x in all_labels_list]\n",
    "all_labels_list = [x.replace(',',\"\") for x in all_labels_list]\n",
    "all_labels_list = [x.replace(\")\",\"\") for x in all_labels_list]\n",
    "all_labels_list = [x.replace(\"(\",\"\") for x in all_labels_list]\n",
    "all_labels_list = [x.replace(\" \",\"_\") for x in all_labels_list]\n",
    "\n",
    "simple_meta_df.insert(loc=1, column='simple_meta', value=all_labels_list)\n",
    "simple_meta_df.sort_values(\"table_id\", inplace=True)\n",
    "simple_meta_df.to_csv(data_outdir / \"simple-meta-all-labels.csv\", index=False)\n"
   ]
  },
  {
   "cell_type": "markdown",
   "id": "ff1b9865",
   "metadata": {
    "slideshow": {
     "slide_type": "slide"
    }
   },
   "source": [
    "# Population Generator Class"
   ]
  },
  {
   "cell_type": "code",
   "execution_count": null,
   "id": "eebfea57",
   "metadata": {
    "slideshow": {
     "slide_type": "subslide"
    }
   },
   "outputs": [],
   "source": [
    "# Build population generator class\n",
    "from scipy.stats import multinomial\n",
    "\n",
    "class PopulationGenerator():\n",
    "    \"\"\"\n",
    "    A population generator class based on census distribution data\n",
    "\n",
    "    Parameters:\n",
    "        census_block_group (list-like) optional: 1 or more census block groups in a list, can be exact cbg or parital to match all 'like'\n",
    "        year (int): 4 digit integer year\n",
    "\n",
    "    Returns:\n",
    "        PopulationGenerator Object: Returning value\n",
    "    \"\"\"\n",
    "\n",
    "    def __init__(self, census_block_group=None, year=0000, like=False):\n",
    "        self.census_block_group = census_block_group\n",
    "        self.year = year\n",
    "        #TODO: house df of interest here?\n",
    "        # self.current_data_df\n",
    "        # self.current_meta_df\n",
    "        self. _df = pd.DataFrame()\n",
    "        self.gender_age_labels = list()\n",
    "        self._count = -1  \n",
    "        \n",
    "\n",
    "    @property\n",
    "    def count(self):\n",
    "        \"\"\"Getter Method\"\"\"\n",
    "        self._count += 1\n",
    "        return self._count\n",
    "\n",
    "    # @count.setter\n",
    "    # def count(self):\n",
    "    #     self._count = \n",
    "    \n",
    "    def selectData(self):\n",
    "        pass\n",
    "\n",
    "    def cleanData(self):\n",
    "        pass"
   ]
  },
  {
   "cell_type": "code",
   "execution_count": null,
   "id": "014e1c36",
   "metadata": {
    "slideshow": {
     "slide_type": "subslide"
    }
   },
   "outputs": [],
   "source": [
    "    %%add_to PopulationGenerator    \n",
    "    def getGenderAge(self, census_block_group=None):\n",
    "        #get only gender and age\n",
    "        gender_age_df = current_data_df.filter(like=\"SEX_BY_AGE\")\n",
    "        #print(gender_age_df)\n",
    "\n",
    "\n",
    "        #get labels for data\n",
    "        gender_age_labels = list(gender_age_df.columns)\n",
    "\n",
    "\n",
    "        #add census_block_group to labels so we can filter the df and use census_block_group as index\n",
    "        gender_age_labels.insert(0, \"census_block_group\")\n",
    "        #display(gender_age_labels)\n",
    "\n",
    "\n",
    "        #use census_block_group as index\n",
    "        gender_age_df = current_data_df.filter(gender_age_labels)\n",
    "        gender_age_df.set_index(\"census_block_group\", inplace=True)\n",
    "        #display(gender_age_df)\n",
    "\n",
    "\n",
    "        #make labels a one-to-one map to label gender_age_probList\n",
    "        remove_labels = [\"census_block_group\",\"SEX_BY_AGE_Total_population_Total_Male\", \"SEX_BY_AGE_Total_population_Total_Female\", \"SEX_BY_AGE_Total_population_Total\"]\n",
    "        for d in remove_labels:\n",
    "            gender_age_labels.remove(d)\n",
    "        #display(gender_age_labels)\n",
    "\n",
    "\n",
    "        #build probility list for multinomial distribution\n",
    "        gender_age_probList = list()\n",
    "        for x in gender_age_labels:\n",
    "            #print(x)\n",
    "            gender_age_probList.append(gender_age_df.at[census_block_group, x]/gender_age_df.SEX_BY_AGE_Total_population_Total.at[census_block_group])\n",
    "\n",
    "        #must be same length\n",
    "        assert(len(gender_age_probList) == len(gender_age_labels))\n",
    "        self.gender_age_df = gender_age_df\n",
    "        self.gender_age_labels = gender_age_labels\n",
    "        return gender_age_probList, gender_age_labels"
   ]
  },
  {
   "cell_type": "code",
   "execution_count": null,
   "id": "6dd1f212",
   "metadata": {
    "slideshow": {
     "slide_type": "subslide"
    }
   },
   "outputs": [],
   "source": [
    "    %%add_to PopulationGenerator  \n",
    "    def generatePopulation(self, population_size, census_block_group=None, like=False):\n",
    "        \"\"\"\n",
    "        Generators population based on params\n",
    "\n",
    "        Parameters:\n",
    "            population_size (int): population size of each census_block_group in list\n",
    "            census_block_group (list-like) optional: census block groups, overide class self.census_block_group\n",
    "\n",
    "        Returns:\n",
    "            population (list): Returns a list of Persons() generated\n",
    "        \"\"\"\n",
    "        population = list()\n",
    "\n",
    "        if like is True:\n",
    "            #create a list... from 'like' first numbers in census_block_group in gender_age_df... scoop for gender_age_df is in other function\n",
    "            pass\n",
    "        if census_block_group is None and self.census_block_group is None:\n",
    "            print(\"Please Provide census_block_group Param\")\n",
    "        elif census_block_group is None:\n",
    "            cbg = self.census_block_group\n",
    "        else:\n",
    "            cbg = census_block_group\n",
    "            \n",
    "        for c in cbg:\n",
    "            gender_age_probList, gender_age_labels = self.getGenderAge(census_block_group=c)\n",
    "            rv_gender_age = multinomial.rvs(population_size, gender_age_probList) \n",
    "            print(f'\\n[i] Generated Population:\\n{rv_gender_age}\\n[i] Labels:\\n{gender_age_labels}\\n[i] Block Group:\\n{c}\\n[i] Probibility List:\\n{gender_age_probList}\\n[i] Population Size:\\n{population_size}\\n')\n",
    "            for i,x in enumerate(rv_gender_age): \n",
    "                [population.append(Person(gender_age=gender_age_labels[i], census_block_group=c, uuid=self.count)) for _ in range(x)]\n",
    "        \n",
    "            #assert(len(population) == population_size)\n",
    "        print(len(population))\n",
    "        return population\n",
    "\n",
    "\n",
    "    "
   ]
  },
  {
   "cell_type": "markdown",
   "id": "95e4969f",
   "metadata": {
    "slideshow": {
     "slide_type": "subslide"
    }
   },
   "source": [
    "# Person Class"
   ]
  },
  {
   "cell_type": "code",
   "execution_count": null,
   "id": "dab4a9d5",
   "metadata": {
    "slideshow": {
     "slide_type": "subslide"
    }
   },
   "outputs": [],
   "source": [
    "# Build Person Class\n",
    "\n",
    "class Person():\n",
    "    \"\"\"\n",
    "    A basic person class to hold census distribution data\n",
    "    \"\"\"\n",
    "\n",
    "    def __init__(self, uuid, gender_age=None, race=None, height=None, weight=None, census_block_group=None):\n",
    "        self.baseline = { #sampleFromJointDistribution() https://data.census.gov/cedsci/table?q=United%20States&tid=ACSDP1Y2019.DP05\n",
    "            'gender_age': gender_age,\n",
    "            'race': race,\n",
    "            'height': height, #meters\n",
    "            'weight': weight, #kg\n",
    "            'census_block_group' : census_block_group,\n",
    "            'uuid' : uuid\n",
    "        }\n",
    "        self.activity = {}\n",
    "        self.location = {}\n",
    "        self.exposure = {}\n",
    "        self.mobility = {}\n",
    "\n",
    "        #Reinforcement Learning Parameters\n",
    "        self.state = None\n",
    "        self.observation = None\n"
   ]
  },
  {
   "cell_type": "markdown",
   "id": "b8989f93",
   "metadata": {
    "slideshow": {
     "slide_type": "slide"
    }
   },
   "source": [
    "# Randomly Sample Census Distribution using PopulationGenerator Class\n",
    "\n",
    "This function will return a population of 100 individuals from two census block groups in Pensacola, Florida. Census Block Group 120330036071 is the University of West Florida Campus in Pensacola and Census Block Group 12033000100 is Downtown Pensacola."
   ]
  },
  {
   "cell_type": "markdown",
   "id": "09f26030",
   "metadata": {
    "slideshow": {
     "slide_type": "slide"
    }
   },
   "source": [
    "**Census Block Group 120330036071, University of West Florida**\n",
    "\n",
    "![University of West Florida](res/cbg-120330036071-census-2019-pcola-fl.png \"Census Block Group 120330036071, University of West Florida\")"
   ]
  },
  {
   "cell_type": "markdown",
   "id": "ebfcc1e5",
   "metadata": {
    "slideshow": {
     "slide_type": "slide"
    }
   },
   "source": [
    "**Census Block Group 12033000100, Downtown Pensacola**\n",
    "\n",
    "![Downtown Pensacola](res/cbg-12033000100-census-2019-pcola-fl.png \"Census Block Group 12033000100, Downtown Pensacola\")"
   ]
  },
  {
   "cell_type": "code",
   "execution_count": null,
   "id": "7950aa4b",
   "metadata": {
    "slideshow": {
     "slide_type": "subslide"
    }
   },
   "outputs": [],
   "source": [
    "pg = PopulationGenerator()\n",
    "\n",
    "local_population = pg.generatePopulation(population_size=100, census_block_group=[120330001001, 120330036071])\n",
    "local_population[0].baseline   "
   ]
  },
  {
   "cell_type": "markdown",
   "id": "e3619a87",
   "metadata": {
    "slideshow": {
     "slide_type": "slide"
    }
   },
   "source": [
    "# Histogram Gender and Age Joint Distributions across entire United States"
   ]
  },
  {
   "cell_type": "code",
   "execution_count": null,
   "id": "c227acc3",
   "metadata": {
    "slideshow": {
     "slide_type": "subslide"
    }
   },
   "outputs": [],
   "source": [
    "import seaborn as sns\n",
    "import matplotlib.pyplot as plt\n",
    "      \n",
    "\n",
    "#set style\n",
    "sns.set_theme(style=\"darkgrid\", palette=\"twilight_shifted_r\")\n",
    "sns.set(rc={\"figure.figsize\": (12, 8)})\n",
    "\n",
    "#plot histogram data\n",
    "tmp_df = pg.gender_age_df.drop(columns=[\"SEX_BY_AGE_Total_population_Total_Male\", \"SEX_BY_AGE_Total_population_Total_Female\", \"SEX_BY_AGE_Total_population_Total\"])\n",
    "\n",
    "tmp_male_df = tmp_df.iloc[:, :23]\n",
    "tmp_female_df = tmp_df.iloc[:,23:]\n",
    "tmp_male_dfT = tmp_male_df.T\n",
    "tmp_female_dfT = tmp_female_df.T\n",
    "tmp_male_dfT_sum = pd.DataFrame(tmp_male_dfT.sum(axis=1))\n",
    "tmp_female_dfT_sum = pd.DataFrame(tmp_female_dfT.sum(axis=1))\n",
    "age_bins = [5, 9, 14, 17, 19, 20, 21, 24, 29, 34, 39, 44, 49, 54, 59, 61, 64, 66, 69, 74, 79, 84, 85]\n",
    "tmp_male_dfT_sum['age'] = age_bins\n",
    "tmp_female_dfT_sum['age'] = age_bins\n",
    "tmp_male_dfT_sum.rename(columns={0:'count'}, inplace=True)\n",
    "tmp_female_dfT_sum.rename(columns={0:'count'}, inplace=True)\n",
    "display(tmp_male_dfT_sum)\n",
    "display(tmp_female_dfT_sum)\n",
    "\n"
   ]
  },
  {
   "cell_type": "code",
   "execution_count": null,
   "id": "7169e663",
   "metadata": {
    "slideshow": {
     "slide_type": "subslide"
    }
   },
   "outputs": [],
   "source": [
    "fig, (axm, axf) = plt.subplots(1, 2)\n",
    "fig.suptitle('US 2019 Gender Age Histogram')\n",
    "\n",
    "#Plot histogram for Male\n",
    "sns.histplot(ax=axm, x=age_bins, weights=list(tmp_male_dfT_sum[\"count\"]), bins=age_bins, kde=True)\n",
    "axm.set(xlabel='Age Bins', title='Male Population by Age')\n",
    "\n",
    "#Plot histogram for Females\n",
    "sns.histplot(ax=axf, x=age_bins, weights=list(tmp_female_dfT_sum[\"count\"]), bins=age_bins, kde=True)\n",
    "axf.set(xlabel='Age Bins', title='Female Population by Age')"
   ]
  },
  {
   "cell_type": "markdown",
   "id": "f3ad3009",
   "metadata": {
    "slideshow": {
     "slide_type": "subslide"
    }
   },
   "source": [
    "In the above plot one can see the gender and age distribution across the United States as recorded by the 2019 Census, it has a mixture of distributions with drop offs in the 20-30 range and great that age 60 range."
   ]
  },
  {
   "cell_type": "markdown",
   "id": "156a743b",
   "metadata": {
    "slideshow": {
     "slide_type": "slide"
    }
   },
   "source": [
    "# Read in Census Block Group into PUMA Files\n",
    "\n",
    "* census tract code is 11 digits, appending last digit identifies a unique census block group (cbg)\n",
    "* all cbg that is part of a census tract (ct) is also part of the associated puma\n",
    "* puma are relatively large landmass areas compared to tracts and cbg, no less than 100,000 people"
   ]
  },
  {
   "cell_type": "code",
   "execution_count": null,
   "id": "6cd7c156",
   "metadata": {
    "slideshow": {
     "slide_type": "subslide"
    }
   },
   "outputs": [],
   "source": [
    "#load csv\n",
    "#keep leading zeros in csv, later strip for STATEFP\n",
    "dtype_dic = {'STATEFP' : str,\n",
    "             'COUNTYFP' : str,\n",
    "             'TRACTCE' : str,\n",
    "             'PUMA5CE' : str}\n",
    "\n",
    "#read in puma ct map file with dtype str\n",
    "ct_puma_df = pd.read_csv(census_tract_to_puma_file, dtype=dtype_dic) #, index_col='STATEFP')\n",
    "\n",
    "# strip leading zero for 'STATEFP' and 'full_fips_ct to match census_block_group in census csv coding\n",
    "ct_puma_df.STATEFP = ct_puma_df.STATEFP.str.lstrip('0')\n"
   ]
  },
  {
   "cell_type": "markdown",
   "id": "c153df1e",
   "metadata": {
    "slideshow": {
     "slide_type": "slide"
    }
   },
   "source": [
    "# Map Census Block Group into PUMA\n",
    "\n",
    "The Public Use Microdata Sample (PUMS) is a 1-Year and 5-Year dataset from the Census Bureau's, this will be used to estimate a joint distribution of age, gender and race.\n",
    "\n",
    "* pensacola metro area is puma 03301 and 03302\n",
    "* pensacola metro area census tracts are 120330\n",
    "* escambia county is state code 12 + county code 033 making 12,033 in ct to puma csv and puma 3301"
   ]
  },
  {
   "cell_type": "code",
   "execution_count": null,
   "id": "9f3bc924",
   "metadata": {
    "slideshow": {
     "slide_type": "subslide"
    }
   },
   "outputs": [],
   "source": [
    "#PUMA Codes are not universally unique, must have state code\n",
    "florida_state_fips_code = \"12\"\n",
    "pensacola_metro_df = ct_puma_df[((ct_puma_df[\"PUMA5CE\"] == \"03301\") | (ct_puma_df[\"PUMA5CE\"] == \"03302\")) & (ct_puma_df.STATEFP == \"12\")].copy() #make .copy() to squalsh view warning messages\n",
    "pensacola_metro_df[\"full_fips_ct\"] = pensacola_metro_df.STATEFP + pensacola_metro_df.COUNTYFP + pensacola_metro_df.TRACTCE\n",
    "pensacola_metro_df.to_csv(data_outdir / \"pensacola-metro-area-2010-census-tract-to-2010-puma.csv\", index=False)\n",
    "\n",
    "\n",
    "#get a list of census tracts from pensacola metro area\n",
    "full_fips_ct_list = list(pensacola_metro_df.full_fips_ct)\n",
    "\n",
    "tmp_pg_df = pg.gender_age_df\n",
    "tmp_pg_df['census_block_group'] = pg.gender_age_df.index\n",
    "tmp_pg_df['census_block_group'] = tmp_pg_df.census_block_group.astype(\"string\") #convert column to \"string\" not str...\n",
    "\n",
    "found_pcola_cbg_df = pd.DataFrame()\n",
    "found_pcola_cbg_df = pd.concat([tmp_pg_df[tmp_pg_df.census_block_group.str.contains(ct)] for ct in full_fips_ct_list])\n",
    "\n",
    "print(\"All Census Block Groups that make up Escambia County\")\n",
    "display(found_pcola_cbg_df)"
   ]
  },
  {
   "cell_type": "markdown",
   "id": "5d696830",
   "metadata": {
    "slideshow": {
     "slide_type": "subslide"
    }
   },
   "source": [
    "In the above output one can see all Census Block Groups that make up Escambia County, which map directly to the 2 PUMA areas in Escambia County."
   ]
  },
  {
   "cell_type": "markdown",
   "id": "36895aa1",
   "metadata": {
    "slideshow": {
     "slide_type": "skip"
    }
   },
   "source": [
    "# Assign PUMA to `found_pcola_cbg_df`\n",
    "**TODO:** \n",
    "* may need to redo concat loop....need to add column `PUMA5CE`\n",
    "* read in 5 years pums, drop all columns except puma, pw weights, age and race columns."
   ]
  },
  {
   "cell_type": "code",
   "execution_count": null,
   "id": "fcb56a3b",
   "metadata": {
    "slideshow": {
     "slide_type": "skip"
    }
   },
   "outputs": [],
   "source": [
    "print(f'Population of Pensacola Metro per Census 2019: {found_pcola_cbg_df.SEX_BY_AGE_Total_population_Total.sum()}')"
   ]
  },
  {
   "cell_type": "markdown",
   "id": "7758acf8",
   "metadata": {
    "slideshow": {
     "slide_type": "slide"
    }
   },
   "source": [
    "# USA Total Population,  Compare 1 Year PUMs, 5 Year PUMs and the 2019 Census\n",
    "\n",
    "There is a 1 year and 5 year pums.\n",
    "\n",
    "After mapping all Pensacola Metro cbg to the puma. A quick total population summation is as follows:\n",
    "\n",
    "### Total Population: 1-year pums, psam_p12.csv, PUMA 3301 and 3302 Weighted Population (PWGTP) is\n",
    "\n",
    "> Note: **Pensacola Metro Area: 317,794**\n",
    "\n",
    "\n",
    "### Total Population: 5-year pums total population:\n",
    "\n",
    "> Note: **Pensacola Metro Area: 313,542**\n",
    "\n",
    "\n",
    "### Total Population: 2019 Census\n",
    "\n",
    "> Note: **Pensacola Metro Area: 313,491**"
   ]
  },
  {
   "cell_type": "markdown",
   "id": "0dcbc228",
   "metadata": {
    "slideshow": {
     "slide_type": "slide"
    }
   },
   "source": [
    "# Synthetic Population Generation for Reinforcement Learning Policy Simulation\n",
    "\n",
    "![Social Network](res/graph-network.jpeg \"Synthetic Population Network\")\n",
    "\n",
    "Author: Timothy L.J. Stewart  \n",
    "Department: UWF-IHMC ISR Ph.D. candidate  \n",
    "Advisors: Dr. Ashok UWF and Dr. Arash IHMC  \n",
    "The code and writeup: https://tljstewart.github.io/  \n"
   ]
  },
  {
   "cell_type": "markdown",
   "id": "54052176",
   "metadata": {},
   "source": []
  }
 ],
 "metadata": {
  "celltoolbar": "Slideshow",
  "interpreter": {
   "hash": "277b9f62456165961f4f012e813ca7cdbd4322a6e6f7b6576399d96d34d2e50c"
  },
  "kernelspec": {
   "display_name": "ml39",
   "language": "python",
   "name": "ml39"
  },
  "language_info": {
   "codemirror_mode": {
    "name": "ipython",
    "version": 3
   },
   "file_extension": ".py",
   "mimetype": "text/x-python",
   "name": "python",
   "nbconvert_exporter": "python",
   "pygments_lexer": "ipython3",
   "version": "3.9.4"
  }
 },
 "nbformat": 4,
 "nbformat_minor": 5
}
